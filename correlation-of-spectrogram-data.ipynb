{
 "cells": [
  {
   "cell_type": "markdown",
   "id": "6d0445f4",
   "metadata": {
    "papermill": {
     "duration": 0.004712,
     "end_time": "2024-02-08T17:17:25.308327",
     "exception": false,
     "start_time": "2024-02-08T17:17:25.303615",
     "status": "completed"
    },
    "tags": []
   },
   "source": [
    "\n",
    "\n",
    "Three datasets used:\n",
    "* Raw EEG Data\n",
    "* Raw Spectrogram Data (NAs filled by 0)\n",
    "* Spectrogram data built by EEGs (<a href=https://www.kaggle.com/datasets/cdeotte/brain-eeg-spectrograms/data)>Spectrogram Data Built from EEGs, Thank you, Chris Deotte</a>)"
   ]
  },
  {
   "cell_type": "code",
   "execution_count": 1,
   "id": "bd196796",
   "metadata": {
    "_cell_guid": "b1076dfc-b9ad-4769-8c92-a6c4dae69d19",
    "_uuid": "8f2839f25d086af736a60e9eeb907d3b93b6e0e5",
    "execution": {
     "iopub.execute_input": "2024-02-08T17:17:25.319725Z",
     "iopub.status.busy": "2024-02-08T17:17:25.318940Z",
     "iopub.status.idle": "2024-02-08T17:17:28.659946Z",
     "shell.execute_reply": "2024-02-08T17:17:28.658715Z"
    },
    "papermill": {
     "duration": 3.350139,
     "end_time": "2024-02-08T17:17:28.662896",
     "exception": false,
     "start_time": "2024-02-08T17:17:25.312757",
     "status": "completed"
    },
    "tags": []
   },
   "outputs": [],
   "source": [
    "import pandas as pd\n",
    "import numpy as np\n",
    "from scipy.special import kl_div\n",
    "from sklearn.model_selection import GroupKFold\n",
    "import xgboost as xgb\n",
    "from tqdm.notebook import tqdm"
   ]
  },
  {
   "cell_type": "code",
   "execution_count": 2,
   "id": "a8444059",
   "metadata": {
    "execution": {
     "iopub.execute_input": "2024-02-08T17:17:28.673409Z",
     "iopub.status.busy": "2024-02-08T17:17:28.672846Z",
     "iopub.status.idle": "2024-02-08T17:17:28.681324Z",
     "shell.execute_reply": "2024-02-08T17:17:28.679871Z"
    },
    "papermill": {
     "duration": 0.016293,
     "end_time": "2024-02-08T17:17:28.683629",
     "exception": false,
     "start_time": "2024-02-08T17:17:28.667336",
     "status": "completed"
    },
    "tags": []
   },
   "outputs": [],
   "source": [
    "class ReadData():\n",
    "    def __init__(self, is_train = True):\n",
    "        self.is_train = is_train\n",
    "    \n",
    "    def _read_data(self, data_type, file_id):\n",
    "        if self.is_train:\n",
    "            PATH = f\"/kaggle/input/hms-harmful-brain-activity-classification/train_{data_type}/{file_id}.parquet\"\n",
    "        else:\n",
    "            PATH = f\"/kaggle/input/hms-harmful-brain-activity-classification/test_{data_type}/{file_id}.parquet\"\n",
    "        \n",
    "        return pd.read_parquet(PATH)\n",
    "        \n",
    "    def read_spectrogram_data(self, spectrogram_id):\n",
    "        return self._read_data('spectrograms', spectrogram_id).set_index('time')\n",
    "    \n",
    "    def read_train_data(self):\n",
    "        return pd.read_csv(\"/kaggle/input/hms-harmful-brain-activity-classification/train.csv\")"
   ]
  },
  {
   "cell_type": "code",
   "execution_count": 3,
   "id": "8108a987",
   "metadata": {
    "execution": {
     "iopub.execute_input": "2024-02-08T17:17:28.694191Z",
     "iopub.status.busy": "2024-02-08T17:17:28.693749Z",
     "iopub.status.idle": "2024-02-08T17:17:28.701708Z",
     "shell.execute_reply": "2024-02-08T17:17:28.700442Z"
    },
    "papermill": {
     "duration": 0.016164,
     "end_time": "2024-02-08T17:17:28.704172",
     "exception": false,
     "start_time": "2024-02-08T17:17:28.688008",
     "status": "completed"
    },
    "tags": []
   },
   "outputs": [],
   "source": [
    "class FeatureEngineerData(ReadData):\n",
    "    def __init__(self, df , row_id):\n",
    "        self.df = df\n",
    "        self.row_id = row_id\n",
    "    \n",
    "    def get_mean(self) -> pd.DataFrame:\n",
    "        return (self.df\n",
    "                .mean()\n",
    "                .reset_index()\n",
    "                .set_axis(['var', 'mean'], axis=1)\n",
    "                .assign(row_id = se)\n",
    "                .pivot(columns='var', values='mean', index='row_id')\n",
    "                .add_prefix('mean_')\n",
    "        )"
   ]
  },
  {
   "cell_type": "code",
   "execution_count": 4,
   "id": "e298fc73",
   "metadata": {
    "execution": {
     "iopub.execute_input": "2024-02-08T17:17:28.715186Z",
     "iopub.status.busy": "2024-02-08T17:17:28.714546Z",
     "iopub.status.idle": "2024-02-08T17:17:28.728437Z",
     "shell.execute_reply": "2024-02-08T17:17:28.727278Z"
    },
    "papermill": {
     "duration": 0.022544,
     "end_time": "2024-02-08T17:17:28.731249",
     "exception": false,
     "start_time": "2024-02-08T17:17:28.708705",
     "status": "completed"
    },
    "tags": []
   },
   "outputs": [],
   "source": [
    "def kld_score(solution, submission):\n",
    "    '''\n",
    "    Calculate the average KL divergence score.\n",
    "    Ignores the \"row id\" assumed in the first column.\n",
    "    '''\n",
    "    sumsum = 0.0\n",
    "    # Go through the probabilities\n",
    "    for prob_col in solution.columns.values:\n",
    "        sumsum += np.nansum(-1.0*solution[prob_col] *\n",
    "                        np.log(submission[prob_col] / solution[prob_col]))\n",
    "    return sumsum/(len(solution))\n",
    "\n",
    "def get_corr(df, row_id):\n",
    "    '''\n",
    "    Returns the correlation of an eeg file\n",
    "    '''\n",
    "    def apply_mask(df):\n",
    "        mask = np.triu(np.ones_like(df, dtype=bool))\n",
    "        return df.where(mask).unstack().dropna()\n",
    "\n",
    "    return (df\n",
    "         .corr()\n",
    "         .pipe(apply_mask)\n",
    "         .reset_index()\n",
    "         .set_axis(['var_1', 'var_2', 'corr'], axis=1)\n",
    "         .query(\"var_1 != var_2\")\n",
    "         .assign(\n",
    "             row_id = row_id,\n",
    "             label = lambda x: x.var_1 + \"-\" + x.var_2\n",
    "         )\n",
    "            .pivot(columns='label', values='corr', index='row_id')\n",
    "            .add_prefix('cor_')\n",
    "    )\n",
    "\n",
    "def get_mean(df, row_id) -> pd.DataFrame:\n",
    "    return (df\n",
    "            .mean()\n",
    "            .reset_index()\n",
    "            .set_axis(['var', 'mean'], axis=1)\n",
    "            .assign(row_id = row_id)\n",
    "            .pivot(columns='var', values='mean', index='row_id')\n",
    "            .add_prefix('mean_')\n",
    "    )\n",
    "\n",
    "def get_std(df, row_id) -> pd.DataFrame:\n",
    "    return (df\n",
    "            .std()\n",
    "            .reset_index()\n",
    "            .set_axis(['var', 'std'], axis=1)\n",
    "            .assign(row_id = row_id)\n",
    "            .pivot(columns='var', values='std', index='row_id')\n",
    "            .add_prefix('std_')\n",
    "    )"
   ]
  },
  {
   "cell_type": "code",
   "execution_count": 5,
   "id": "a97e1f79",
   "metadata": {
    "execution": {
     "iopub.execute_input": "2024-02-08T17:17:28.742161Z",
     "iopub.status.busy": "2024-02-08T17:17:28.741509Z",
     "iopub.status.idle": "2024-02-08T19:43:31.632250Z",
     "shell.execute_reply": "2024-02-08T19:43:31.631116Z"
    },
    "papermill": {
     "duration": 8762.899092,
     "end_time": "2024-02-08T19:43:31.634691",
     "exception": false,
     "start_time": "2024-02-08T17:17:28.735599",
     "status": "completed"
    },
    "tags": []
   },
   "outputs": [
    {
     "data": {
      "application/vnd.jupyter.widget-view+json": {
       "model_id": "9bf112fef99540ef8fbf7a6557bdac82",
       "version_major": 2,
       "version_minor": 0
      },
      "text/plain": [
       "0it [00:00, ?it/s]"
      ]
     },
     "metadata": {},
     "output_type": "display_data"
    }
   ],
   "source": [
    "rd = ReadData()\n",
    "train_df = rd.read_train_data()\n",
    "\n",
    "df_spec = pd.DataFrame()\n",
    "for index, row in tqdm(train_df.query(\"eeg_sub_id == 0\").iterrows()):\n",
    "    \n",
    "    total_spec = rd.read_spectrogram_data(row['spectrogram_id']).loc[row['spectrogram_label_offset_seconds']:row['spectrogram_label_offset_seconds']+600]\n",
    "    total_spec = total_spec.iloc[:,0::4].fillna(0)\n",
    "    \n",
    "    middle = (row['spectrogram_label_offset_seconds']+(600+row['spectrogram_label_offset_seconds']))/2\n",
    "    middle_spec = total_spec.loc[middle-90:middle+90]\n",
    "    \n",
    "    row_data = pd.concat([\n",
    "        get_corr(total_spec, row['label_id']).add_prefix('total_'),\n",
    "        get_corr(middle_spec, row['label_id']).add_prefix('middle_'),\n",
    "        \n",
    "        get_mean(total_spec, row['label_id']).add_prefix('total_'),  \n",
    "        get_mean(middle_spec, row['label_id']).add_prefix('middle_'),\n",
    "        \n",
    "        get_std(total_spec, row['label_id']).add_prefix('total_'),\n",
    "        get_std(middle_spec, row['label_id']).add_prefix('middle_')\n",
    "\n",
    "    ], axis=1)\n",
    "    \n",
    "    if get_std(middle_spec, row['label_id']).isna().sum(axis=1).iloc[0] > 0:\n",
    "        break\n",
    "    \n",
    "    df_spec = pd.concat([\n",
    "        df_spec,\n",
    "        row_data\n",
    "    ])"
   ]
  },
  {
   "cell_type": "code",
   "execution_count": 6,
   "id": "5a658776",
   "metadata": {
    "execution": {
     "iopub.execute_input": "2024-02-08T19:43:31.647689Z",
     "iopub.status.busy": "2024-02-08T19:43:31.646970Z",
     "iopub.status.idle": "2024-02-08T19:43:37.473632Z",
     "shell.execute_reply": "2024-02-08T19:43:37.472425Z"
    },
    "papermill": {
     "duration": 5.835904,
     "end_time": "2024-02-08T19:43:37.476590",
     "exception": false,
     "start_time": "2024-02-08T19:43:31.640686",
     "status": "completed"
    },
    "tags": []
   },
   "outputs": [],
   "source": [
    "df_spec = df_spec.sample(frac=1, random_state=42)\n",
    "df_spec.index.name = 'row_id'\n",
    "\n",
    "X = df_spec.reset_index(drop=True)#.filter(regex='cor|std|range')\n",
    "y_prob = df_spec.reset_index().rename(columns={'row_id':'label_id'}).merge(train_df).filter(like = '_vote')\n",
    "y_prob = y_prob.divide(y_prob.sum(axis=1), axis=0)\n",
    "\n",
    "TARGETS = {\n",
    "    'Seizure': 0,\n",
    "    'LPD': 1,\n",
    "    'GPD': 2,\n",
    "    'LRDA': 3,\n",
    "    'GRDA': 4,\n",
    "    'Other': 5\n",
    "}\n",
    "y = df_spec.merge(train_df, left_on='row_id', right_on='label_id')['expert_consensus'].map(TARGETS)\n",
    "\n",
    "patient_id = train_df.query(\"eeg_sub_id == 0\").iloc[0:len(df_spec)].groupby('eeg_id')['patient_id'].first()"
   ]
  },
  {
   "cell_type": "code",
   "execution_count": 7,
   "id": "a79603eb",
   "metadata": {
    "execution": {
     "iopub.execute_input": "2024-02-08T19:43:37.489124Z",
     "iopub.status.busy": "2024-02-08T19:43:37.488699Z",
     "iopub.status.idle": "2024-02-09T02:14:51.843874Z",
     "shell.execute_reply": "2024-02-09T02:14:51.839553Z"
    },
    "papermill": {
     "duration": 23474.367591,
     "end_time": "2024-02-09T02:14:51.849672",
     "exception": false,
     "start_time": "2024-02-08T19:43:37.482081",
     "status": "completed"
    },
    "tags": []
   },
   "outputs": [
    {
     "name": "stdout",
     "output_type": "stream",
     "text": [
      "Training: XGB...\n",
      "[0]\tvalidation_0-mlogloss:1.69585\n",
      "[10]\tvalidation_0-mlogloss:1.24766\n",
      "[20]\tvalidation_0-mlogloss:1.08714\n",
      "[30]\tvalidation_0-mlogloss:1.01816\n",
      "[40]\tvalidation_0-mlogloss:0.98256\n",
      "[50]\tvalidation_0-mlogloss:0.96473\n",
      "[60]\tvalidation_0-mlogloss:0.95661\n",
      "[70]\tvalidation_0-mlogloss:0.95420\n",
      "[80]\tvalidation_0-mlogloss:0.95378\n",
      "[90]\tvalidation_0-mlogloss:0.95676\n",
      "[98]\tvalidation_0-mlogloss:0.96001\n",
      "Training: XGB...\n",
      "[0]\tvalidation_0-mlogloss:1.69874\n",
      "[10]\tvalidation_0-mlogloss:1.24312\n",
      "[20]\tvalidation_0-mlogloss:1.08533\n",
      "[30]\tvalidation_0-mlogloss:1.01343\n",
      "[40]\tvalidation_0-mlogloss:0.97816\n",
      "[50]\tvalidation_0-mlogloss:0.96280\n",
      "[60]\tvalidation_0-mlogloss:0.95610\n",
      "[70]\tvalidation_0-mlogloss:0.95424\n",
      "[80]\tvalidation_0-mlogloss:0.95462\n",
      "[90]\tvalidation_0-mlogloss:0.95791\n",
      "[96]\tvalidation_0-mlogloss:0.95928\n",
      "Training: XGB...\n",
      "[0]\tvalidation_0-mlogloss:1.69902\n",
      "[10]\tvalidation_0-mlogloss:1.24919\n",
      "[20]\tvalidation_0-mlogloss:1.08796\n",
      "[30]\tvalidation_0-mlogloss:1.01567\n",
      "[40]\tvalidation_0-mlogloss:0.97863\n",
      "[50]\tvalidation_0-mlogloss:0.95992\n",
      "[60]\tvalidation_0-mlogloss:0.95031\n",
      "[70]\tvalidation_0-mlogloss:0.94622\n",
      "[80]\tvalidation_0-mlogloss:0.94722\n",
      "[86]\tvalidation_0-mlogloss:0.94669\n",
      "Training: XGB...\n",
      "[0]\tvalidation_0-mlogloss:1.69710\n",
      "[10]\tvalidation_0-mlogloss:1.25021\n",
      "[20]\tvalidation_0-mlogloss:1.09587\n",
      "[30]\tvalidation_0-mlogloss:1.02380\n",
      "[40]\tvalidation_0-mlogloss:0.98751\n",
      "[50]\tvalidation_0-mlogloss:0.96995\n",
      "[60]\tvalidation_0-mlogloss:0.96158\n",
      "[70]\tvalidation_0-mlogloss:0.95909\n",
      "[80]\tvalidation_0-mlogloss:0.96223\n",
      "[87]\tvalidation_0-mlogloss:0.96480\n",
      "Training: XGB...\n",
      "[0]\tvalidation_0-mlogloss:1.69866\n",
      "[10]\tvalidation_0-mlogloss:1.24691\n",
      "[20]\tvalidation_0-mlogloss:1.09269\n",
      "[30]\tvalidation_0-mlogloss:1.02405\n",
      "[40]\tvalidation_0-mlogloss:0.99154\n",
      "[50]\tvalidation_0-mlogloss:0.97719\n",
      "[60]\tvalidation_0-mlogloss:0.97295\n",
      "[70]\tvalidation_0-mlogloss:0.97082\n",
      "[80]\tvalidation_0-mlogloss:0.97245\n",
      "[89]\tvalidation_0-mlogloss:0.97495\n"
     ]
    }
   ],
   "source": [
    "folds = GroupKFold(n_splits=5)\n",
    "\n",
    "for fold, (train_index, valid_index) in enumerate(folds.split(X, y, patient_id)): \n",
    "    X_train, y_train = X.iloc[train_index], y.iloc[train_index] \n",
    "    X_val, y_val = X.iloc[valid_index], y.iloc[valid_index] \n",
    "\n",
    "    print('Training: XGB...')\n",
    "    xgb_mod = xgb.XGBClassifier(\n",
    "        tree_method=\"hist\", \n",
    "        n_estimators = 1000,\n",
    "        learning_rate=0.1,\n",
    "        colsample_bytree=1,\n",
    "        max_depth = 8,\n",
    "        verbosity=1,\n",
    "        objective='multi:softmax',\n",
    "        early_stopping_rounds=20\n",
    "    )\n",
    "    xgb_mod.fit(X_train, y_train, eval_set=[(X_val, y_val)], verbose=10)\n",
    "    "
   ]
  },
  {
   "cell_type": "code",
   "execution_count": 8,
   "id": "7991ea86",
   "metadata": {
    "execution": {
     "iopub.execute_input": "2024-02-09T02:14:51.877724Z",
     "iopub.status.busy": "2024-02-09T02:14:51.876995Z",
     "iopub.status.idle": "2024-02-09T02:14:52.671484Z",
     "shell.execute_reply": "2024-02-09T02:14:52.670475Z"
    },
    "papermill": {
     "duration": 0.816757,
     "end_time": "2024-02-09T02:14:52.676967",
     "exception": false,
     "start_time": "2024-02-09T02:14:51.860210",
     "status": "completed"
    },
    "tags": []
   },
   "outputs": [
    {
     "data": {
      "text/plain": [
       "<Axes: title={'center': 'Feature importance'}, xlabel='F score', ylabel='Features'>"
      ]
     },
     "execution_count": 8,
     "metadata": {},
     "output_type": "execute_result"
    },
    {
     "data": {
      "image/png": "[encoded data removed]",
      "text/plain": [
       "<Figure size 640x480 with 1 Axes>"
      ]
     },
     "metadata": {},
     "output_type": "display_data"
    }
   ],
   "source": [
    "xgb.plot_importance(xgb_mod, max_num_features=25)"
   ]
  }
 ],
 "metadata": {
  "kaggle": {
   "accelerator": "none",
   "dataSources": [
    {
     "databundleVersionId": 7469972,
     "sourceId": 59093,
     "sourceType": "competition"
    },
    {
     "datasetId": 4297749,
     "sourceId": 7392733,
     "sourceType": "datasetVersion"
    },
    {
     "datasetId": 4334995,
     "sourceId": 7447509,
     "sourceType": "datasetVersion"
    }
   ],
   "dockerImageVersionId": 30646,
   "isGpuEnabled": false,
   "isInternetEnabled": true,
   "language": "python",
   "sourceType": "notebook"
  },
  "kernelspec": {
   "display_name": "Python 3",
   "language": "python",
   "name": "python3"
  },
  "language_info": {
   "codemirror_mode": {
    "name": "ipython",
    "version": 3
   },
   "file_extension": ".py",
   "mimetype": "text/x-python",
   "name": "python",
   "nbconvert_exporter": "python",
   "pygments_lexer": "ipython3",
   "version": "3.10.13"
  },
  "papermill": {
   "default_parameters": {},
   "duration": 32252.074656,
   "end_time": "2024-02-09T02:14:54.166432",
   "environment_variables": {},
   "exception": null,
   "input_path": "__notebook__.ipynb",
   "output_path": "__notebook__.ipynb",
   "parameters": {},
   "start_time": "2024-02-08T17:17:22.091776",
   "version": "2.5.0"
  },
  "widgets": {
   "application/vnd.jupyter.widget-state+json": {
    "state": {
     "232dedb5f2a644ec95886761201d47a6": {
      "model_module": "@jupyter-widgets/controls",
      "model_module_version": "1.5.0",
      "model_name": "HTMLModel",
      "state": {
       "_dom_classes": [],
       "_model_module": "@jupyter-widgets/controls",
       "_model_module_version": "1.5.0",
       "_model_name": "HTMLModel",
       "_view_count": null,
       "_view_module": "@jupyter-widgets/controls",
       "_view_module_version": "1.5.0",
       "_view_name": "HTMLView",
       "description": "",
       "description_tooltip": null,
       "layout": "IPY_MODEL_61ce41db3f1b4f289f0f26c2b1f31234",
       "placeholder": "​",
       "style": "IPY_MODEL_4751cdeda29b4671b2857df1c12347a4",
       "value": ""
      }
     },
     "318163b9adad4c6c9135f5a0f8318859": {
      "model_module": "@jupyter-widgets/controls",
      "model_module_version": "1.5.0",
      "model_name": "FloatProgressModel",
      "state": {
       "_dom_classes": [],
       "_model_module": "@jupyter-widgets/controls",
       "_model_module_version": "1.5.0",
       "_model_name": "FloatProgressModel",
       "_view_count": null,
       "_view_module": "@jupyter-widgets/controls",
       "_view_module_version": "1.5.0",
       "_view_name": "ProgressView",
       "bar_style": "success",
       "description": "",
       "description_tooltip": null,
       "layout": "IPY_MODEL_335678697adb4b6a8f4c4aa1fe3011c8",
       "max": 1.0,
       "min": 0.0,
       "orientation": "horizontal",
       "style": "IPY_MODEL_737a5d00267e46cd8d4891449ff0e53e",
       "value": 1.0
      }
     },
     "335678697adb4b6a8f4c4aa1fe3011c8": {
      "model_module": "@jupyter-widgets/base",
      "model_module_version": "1.2.0",
      "model_name": "LayoutModel",
      "state": {
       "_model_module": "@jupyter-widgets/base",
       "_model_module_version": "1.2.0",
       "_model_name": "LayoutModel",
       "_view_count": null,
       "_view_module": "@jupyter-widgets/base",
       "_view_module_version": "1.2.0",
       "_view_name": "LayoutView",
       "align_content": null,
       "align_items": null,
       "align_self": null,
       "border": null,
       "bottom": null,
       "display": null,
       "flex": null,
       "flex_flow": null,
       "grid_area": null,
       "grid_auto_columns": null,
       "grid_auto_flow": null,
       "grid_auto_rows": null,
       "grid_column": null,
       "grid_gap": null,
       "grid_row": null,
       "grid_template_areas": null,
       "grid_template_columns": null,
       "grid_template_rows": null,
       "height": null,
       "justify_content": null,
       "justify_items": null,
       "left": null,
       "margin": null,
       "max_height": null,
       "max_width": null,
       "min_height": null,
       "min_width": null,
       "object_fit": null,
       "object_position": null,
       "order": null,
       "overflow": null,
       "overflow_x": null,
       "overflow_y": null,
       "padding": null,
       "right": null,
       "top": null,
       "visibility": null,
       "width": "20px"
      }
     },
     "4751cdeda29b4671b2857df1c12347a4": {
      "model_module": "@jupyter-widgets/controls",
      "model_module_version": "1.5.0",
      "model_name": "DescriptionStyleModel",
      "state": {
       "_model_module": "@jupyter-widgets/controls",
       "_model_module_version": "1.5.0",
       "_model_name": "DescriptionStyleModel",
       "_view_count": null,
       "_view_module": "@jupyter-widgets/base",
       "_view_module_version": "1.2.0",
       "_view_name": "StyleView",
       "description_width": ""
      }
     },
     "61ce41db3f1b4f289f0f26c2b1f31234": {
      "model_module": "@jupyter-widgets/base",
      "model_module_version": "1.2.0",
      "model_name": "LayoutModel",
      "state": {
       "_model_module": "@jupyter-widgets/base",
       "_model_module_version": "1.2.0",
       "_model_name": "LayoutModel",
       "_view_count": null,
       "_view_module": "@jupyter-widgets/base",
       "_view_module_version": "1.2.0",
       "_view_name": "LayoutView",
       "align_content": null,
       "align_items": null,
       "align_self": null,
       "border": null,
       "bottom": null,
       "display": null,
       "flex": null,
       "flex_flow": null,
       "grid_area": null,
       "grid_auto_columns": null,
       "grid_auto_flow": null,
       "grid_auto_rows": null,
       "grid_column": null,
       "grid_gap": null,
       "grid_row": null,
       "grid_template_areas": null,
       "grid_template_columns": null,
       "grid_template_rows": null,
       "height": null,
       "justify_content": null,
       "justify_items": null,
       "left": null,
       "margin": null,
       "max_height": null,
       "max_width": null,
       "min_height": null,
       "min_width": null,
       "object_fit": null,
       "object_position": null,
       "order": null,
       "overflow": null,
       "overflow_x": null,
       "overflow_y": null,
       "padding": null,
       "right": null,
       "top": null,
       "visibility": null,
       "width": null
      }
     },
     "62df44ca340f45089069c583e2fdb3f4": {
      "model_module": "@jupyter-widgets/controls",
      "model_module_version": "1.5.0",
      "model_name": "DescriptionStyleModel",
      "state": {
       "_model_module": "@jupyter-widgets/controls",
       "_model_module_version": "1.5.0",
       "_model_name": "DescriptionStyleModel",
       "_view_count": null,
       "_view_module": "@jupyter-widgets/base",
       "_view_module_version": "1.2.0",
       "_view_name": "StyleView",
       "description_width": ""
      }
     },
     "634ba564fb1449f6846901c770d9fdeb": {
      "model_module": "@jupyter-widgets/base",
      "model_module_version": "1.2.0",
      "model_name": "LayoutModel",
      "state": {
       "_model_module": "@jupyter-widgets/base",
       "_model_module_version": "1.2.0",
       "_model_name": "LayoutModel",
       "_view_count": null,
       "_view_module": "@jupyter-widgets/base",
       "_view_module_version": "1.2.0",
       "_view_name": "LayoutView",
       "align_content": null,
       "align_items": null,
       "align_self": null,
       "border": null,
       "bottom": null,
       "display": null,
       "flex": null,
       "flex_flow": null,
       "grid_area": null,
       "grid_auto_columns": null,
       "grid_auto_flow": null,
       "grid_auto_rows": null,
       "grid_column": null,
       "grid_gap": null,
       "grid_row": null,
       "grid_template_areas": null,
       "grid_template_columns": null,
       "grid_template_rows": null,
       "height": null,
       "justify_content": null,
       "justify_items": null,
       "left": null,
       "margin": null,
       "max_height": null,
       "max_width": null,
       "min_height": null,
       "min_width": null,
       "object_fit": null,
       "object_position": null,
       "order": null,
       "overflow": null,
       "overflow_x": null,
       "overflow_y": null,
       "padding": null,
       "right": null,
       "top": null,
       "visibility": null,
       "width": null
      }
     },
     "737a5d00267e46cd8d4891449ff0e53e": {
      "model_module": "@jupyter-widgets/controls",
      "model_module_version": "1.5.0",
      "model_name": "ProgressStyleModel",
      "state": {
       "_model_module": "@jupyter-widgets/controls",
       "_model_module_version": "1.5.0",
       "_model_name": "ProgressStyleModel",
       "_view_count": null,
       "_view_module": "@jupyter-widgets/base",
       "_view_module_version": "1.2.0",
       "_view_name": "StyleView",
       "bar_color": null,
       "description_width": ""
      }
     },
     "76e027e77032463298eaf538abaed2b7": {
      "model_module": "@jupyter-widgets/controls",
      "model_module_version": "1.5.0",
      "model_name": "HTMLModel",
      "state": {
       "_dom_classes": [],
       "_model_module": "@jupyter-widgets/controls",
       "_model_module_version": "1.5.0",
       "_model_name": "HTMLModel",
       "_view_count": null,
       "_view_module": "@jupyter-widgets/controls",
       "_view_module_version": "1.5.0",
       "_view_name": "HTMLView",
       "description": "",
       "description_tooltip": null,
       "layout": "IPY_MODEL_634ba564fb1449f6846901c770d9fdeb",
       "placeholder": "​",
       "style": "IPY_MODEL_62df44ca340f45089069c583e2fdb3f4",
       "value": " 17089/? [2:26:02&lt;00:00,  1.42it/s]"
      }
     },
     "9bf112fef99540ef8fbf7a6557bdac82": {
      "model_module": "@jupyter-widgets/controls",
      "model_module_version": "1.5.0",
      "model_name": "HBoxModel",
      "state": {
       "_dom_classes": [],
       "_model_module": "@jupyter-widgets/controls",
       "_model_module_version": "1.5.0",
       "_model_name": "HBoxModel",
       "_view_count": null,
       "_view_module": "@jupyter-widgets/controls",
       "_view_module_version": "1.5.0",
       "_view_name": "HBoxView",
       "box_style": "",
       "children": [
        "IPY_MODEL_232dedb5f2a644ec95886761201d47a6",
        "IPY_MODEL_318163b9adad4c6c9135f5a0f8318859",
        "IPY_MODEL_76e027e77032463298eaf538abaed2b7"
       ],
       "layout": "IPY_MODEL_a935f1f84ef44aafa7963c52b9ca8154"
      }
     },
     "a935f1f84ef44aafa7963c52b9ca8154": {
      "model_module": "@jupyter-widgets/base",
      "model_module_version": "1.2.0",
      "model_name": "LayoutModel",
      "state": {
       "_model_module": "@jupyter-widgets/base",
       "_model_module_version": "1.2.0",
       "_model_name": "LayoutModel",
       "_view_count": null,
       "_view_module": "@jupyter-widgets/base",
       "_view_module_version": "1.2.0",
       "_view_name": "LayoutView",
       "align_content": null,
       "align_items": null,
       "align_self": null,
       "border": null,
       "bottom": null,
       "display": null,
       "flex": null,
       "flex_flow": null,
       "grid_area": null,
       "grid_auto_columns": null,
       "grid_auto_flow": null,
       "grid_auto_rows": null,
       "grid_column": null,
       "grid_gap": null,
       "grid_row": null,
       "grid_template_areas": null,
       "grid_template_columns": null,
       "grid_template_rows": null,
       "height": null,
       "justify_content": null,
       "justify_items": null,
       "left": null,
       "margin": null,
       "max_height": null,
       "max_width": null,
       "min_height": null,
       "min_width": null,
       "object_fit": null,
       "object_position": null,
       "order": null,
       "overflow": null,
       "overflow_x": null,
       "overflow_y": null,
       "padding": null,
       "right": null,
       "top": null,
       "visibility": null,
       "width": null
      }
     }
    },
    "version_major": 2,
    "version_minor": 0
   }
  }
 },
 "nbformat": 4,
 "nbformat_minor": 5
}
